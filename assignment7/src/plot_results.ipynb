{
 "cells": [
  {
   "cell_type": "code",
   "execution_count": 63,
   "metadata": {},
   "outputs": [],
   "source": [
    "import pandas as pd\n",
    "import glob \n",
    "import matplotlib.pyplot as plt\n",
    "import os"
   ]
  },
  {
   "cell_type": "code",
   "execution_count": 124,
   "metadata": {},
   "outputs": [
    {
     "data": {
      "text/plain": [
       "'./results/1b_milan2.txt'"
      ]
     },
     "execution_count": 124,
     "metadata": {},
     "output_type": "execute_result"
    }
   ],
   "source": [
    "filename = glob.glob(\"./results/1b*.txt\")[1]\n",
    "filename\n"
   ]
  },
  {
   "cell_type": "code",
   "execution_count": 125,
   "metadata": {},
   "outputs": [
    {
     "data": {
      "text/html": [
       "<div>\n",
       "<style scoped>\n",
       "    .dataframe tbody tr th:only-of-type {\n",
       "        vertical-align: middle;\n",
       "    }\n",
       "\n",
       "    .dataframe tbody tr th {\n",
       "        vertical-align: top;\n",
       "    }\n",
       "\n",
       "    .dataframe thead th {\n",
       "        text-align: right;\n",
       "    }\n",
       "</style>\n",
       "<table border=\"1\" class=\"dataframe\">\n",
       "  <thead>\n",
       "    <tr style=\"text-align: right;\">\n",
       "      <th></th>\n",
       "      <th>SumType</th>\n",
       "      <th>Datasize</th>\n",
       "      <th>Latency[ns]</th>\n",
       "      <th>Cycles</th>\n",
       "      <th>Checksum</th>\n",
       "    </tr>\n",
       "  </thead>\n",
       "  <tbody>\n",
       "    <tr>\n",
       "      <th>0</th>\n",
       "      <td>sum_indexcalc k=1</td>\n",
       "      <td>1.024000e+03</td>\n",
       "      <td>1.99</td>\n",
       "      <td>1000.0</td>\n",
       "      <td>1.024000e+03</td>\n",
       "    </tr>\n",
       "    <tr>\n",
       "      <th>1</th>\n",
       "      <td>sum_indexload k=1</td>\n",
       "      <td>1.024000e+03</td>\n",
       "      <td>4.04</td>\n",
       "      <td>1000.0</td>\n",
       "      <td>1.024000e+03</td>\n",
       "    </tr>\n",
       "    <tr>\n",
       "      <th>2</th>\n",
       "      <td>sum_indexcalc k=gold</td>\n",
       "      <td>1.024000e+03</td>\n",
       "      <td>1.99</td>\n",
       "      <td>1000.0</td>\n",
       "      <td>1.024000e+03</td>\n",
       "    </tr>\n",
       "    <tr>\n",
       "      <th>3</th>\n",
       "      <td>sum_indexload k=gold</td>\n",
       "      <td>1.024000e+03</td>\n",
       "      <td>4.04</td>\n",
       "      <td>1000.0</td>\n",
       "      <td>1.024000e+03</td>\n",
       "    </tr>\n",
       "    <tr>\n",
       "      <th>4</th>\n",
       "      <td>sum_indexcalc k=1</td>\n",
       "      <td>2.048000e+03</td>\n",
       "      <td>1.20</td>\n",
       "      <td>1000.0</td>\n",
       "      <td>2.048000e+03</td>\n",
       "    </tr>\n",
       "    <tr>\n",
       "      <th>...</th>\n",
       "      <td>...</td>\n",
       "      <td>...</td>\n",
       "      <td>...</td>\n",
       "      <td>...</td>\n",
       "      <td>...</td>\n",
       "    </tr>\n",
       "    <tr>\n",
       "      <th>80</th>\n",
       "      <td>sum_indexcalc k=1</td>\n",
       "      <td>1.073742e+09</td>\n",
       "      <td>1.96</td>\n",
       "      <td>1.0</td>\n",
       "      <td>1.073742e+09</td>\n",
       "    </tr>\n",
       "    <tr>\n",
       "      <th>81</th>\n",
       "      <td>sum_indexload k=1</td>\n",
       "      <td>1.073742e+09</td>\n",
       "      <td>1.74</td>\n",
       "      <td>1.0</td>\n",
       "      <td>1.073742e+09</td>\n",
       "    </tr>\n",
       "    <tr>\n",
       "      <th>82</th>\n",
       "      <td>sum_indexcalc k=gold</td>\n",
       "      <td>1.073742e+09</td>\n",
       "      <td>7.85</td>\n",
       "      <td>1.0</td>\n",
       "      <td>1.073742e+09</td>\n",
       "    </tr>\n",
       "    <tr>\n",
       "      <th>83</th>\n",
       "      <td>sum_indexload k=gold</td>\n",
       "      <td>1.073742e+09</td>\n",
       "      <td>1.74</td>\n",
       "      <td>1.0</td>\n",
       "      <td>1.073742e+09</td>\n",
       "    </tr>\n",
       "    <tr>\n",
       "      <th>84</th>\n",
       "      <td>NaN</td>\n",
       "      <td>NaN</td>\n",
       "      <td>NaN</td>\n",
       "      <td>NaN</td>\n",
       "      <td>NaN</td>\n",
       "    </tr>\n",
       "  </tbody>\n",
       "</table>\n",
       "<p>85 rows × 5 columns</p>\n",
       "</div>"
      ],
      "text/plain": [
       "                   SumType      Datasize  Latency[ns]  Cycles      Checksum\n",
       "0       sum_indexcalc k=1   1.024000e+03         1.99  1000.0  1.024000e+03\n",
       "1       sum_indexload k=1   1.024000e+03         4.04  1000.0  1.024000e+03\n",
       "2    sum_indexcalc k=gold   1.024000e+03         1.99  1000.0  1.024000e+03\n",
       "3    sum_indexload k=gold   1.024000e+03         4.04  1000.0  1.024000e+03\n",
       "4       sum_indexcalc k=1   2.048000e+03         1.20  1000.0  2.048000e+03\n",
       "..                     ...           ...          ...     ...           ...\n",
       "80      sum_indexcalc k=1   1.073742e+09         1.96     1.0  1.073742e+09\n",
       "81      sum_indexload k=1   1.073742e+09         1.74     1.0  1.073742e+09\n",
       "82   sum_indexcalc k=gold   1.073742e+09         7.85     1.0  1.073742e+09\n",
       "83   sum_indexload k=gold   1.073742e+09         1.74     1.0  1.073742e+09\n",
       "84                     NaN           NaN          NaN     NaN           NaN\n",
       "\n",
       "[85 rows x 5 columns]"
      ]
     },
     "execution_count": 125,
     "metadata": {},
     "output_type": "execute_result"
    }
   ],
   "source": [
    "df = pd.read_csv(filename, sep=\"|\")\n",
    "df = df.drop(df.columns[[0, -1]], axis=1)\n",
    "df.columns = [col.strip() for col in df.columns]\n",
    "df\n"
   ]
  },
  {
   "cell_type": "code",
   "execution_count": 126,
   "metadata": {},
   "outputs": [
    {
     "name": "stdout",
     "output_type": "stream",
     "text": [
      "milan2\n"
     ]
    }
   ],
   "source": [
    "arch = filename.split(\"/\")[-1].split(\"_\")[-1][:-4]\n",
    "print(arch)"
   ]
  },
  {
   "cell_type": "code",
   "execution_count": 128,
   "metadata": {},
   "outputs": [
    {
     "name": "stdout",
     "output_type": "stream",
     "text": [
      "./results/img/e_1b_milan2.png\n",
      "0\n"
     ]
    },
    {
     "data": {
      "image/png": "[encoded data removed]",
      "text/plain": [
       "<Figure size 640x480 with 1 Axes>"
      ]
     },
     "metadata": {},
     "output_type": "display_data"
    }
   ],
   "source": [
    "groups = df.groupby(['SumType'])\n",
    "max_elem = 0\n",
    "for method in [\"indexcalc\"]:\n",
    "    for name, group in groups:\n",
    "        if method not in name[0]:\n",
    "            continue\n",
    "        if \"k=gold\" not in name[0]:\n",
    "            continue\n",
    "        plt.plot(group['Datasize'].to_list(), group['Latency[ns]'].to_list(), marker='o', label=name[0].strip())\n",
    "        # set log scale for x axis\n",
    "        # log2 scale\n",
    "        if \"1c\" in filename:\n",
    "            if max_elem < group['Latency[ns]'].max():\n",
    "                max_elem = group['Latency[ns]'].max()\n",
    "plt.xlabel(\"Datasize\")\n",
    "plt.ylabel(\"Latency[ns]\")\n",
    "plt.xscale('log', base=2)\n",
    "plt.title(f\"Latency on {arch}\")\n",
    "plt.legend()\n",
    "result_name=f\"./results/img/e_{os.path.basename(filename)[:-4]}.png\"\n",
    "print(result_name)\n",
    "print(max_elem)\n",
    "plt.savefig(result_name)"
   ]
  },
  {
   "cell_type": "code",
   "execution_count": null,
   "metadata": {},
   "outputs": [],
   "source": []
  }
 ],
 "metadata": {
  "kernelspec": {
   "display_name": "base",
   "language": "python",
   "name": "python3"
  },
  "language_info": {
   "codemirror_mode": {
    "name": "ipython",
    "version": 3
   },
   "file_extension": ".py",
   "mimetype": "text/x-python",
   "name": "python",
   "nbconvert_exporter": "python",
   "pygments_lexer": "ipython3",
   "version": "3.11.5"
  }
 },
 "nbformat": 4,
 "nbformat_minor": 2
}
